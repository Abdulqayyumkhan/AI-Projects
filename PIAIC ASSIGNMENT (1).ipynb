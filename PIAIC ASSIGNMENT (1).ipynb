{
 "cells": [
  {
   "cell_type": "code",
   "execution_count": 17,
   "metadata": {},
   "outputs": [
    {
     "name": "stdout",
     "output_type": "stream",
     "text": [
      "Input radius=3.6\n",
      "Area of Circle with radius 3.6 is 40.72\n"
     ]
    }
   ],
   "source": [
    "# task#01\n",
    "from math import *\n",
    "r=eval(input(\"Input radius=\"))\n",
    "A=pi*r**2\n",
    "print(\"Area of Circle with radius\",r,'is','%.2f' % (A))"
   ]
  },
  {
   "cell_type": "code",
   "execution_count": 16,
   "metadata": {},
   "outputs": [
    {
     "name": "stdout",
     "output_type": "stream",
     "text": [
      "Integer=-89\n",
      "Negetive Number Entered\n"
     ]
    }
   ],
   "source": [
    "# task#02\n",
    "num=eval(input(\"Integer=\"))\n",
    "if num>0:\n",
    "    print(\"Positive Number Entered\")\n",
    "elif num<0:\n",
    "    print(\"Negetive Number Entered\")\n",
    "elif num==0:\n",
    "    print(\"Zero Entered\")"
   ]
  },
  {
   "cell_type": "code",
   "execution_count": 18,
   "metadata": {},
   "outputs": [
    {
     "name": "stdout",
     "output_type": "stream",
     "text": [
      "Enter numerator:89\n",
      "Enter Denominator:3\n",
      "Number 89 is not Completely divisible by 3\n"
     ]
    }
   ],
   "source": [
    "# task#03\n",
    "num_1=eval(input(\"Enter numerator:\"))\n",
    "num_2=eval(input(\"Enter Denominator:\"))\n",
    "if num_1%num_2==0:\n",
    "    print(\"Number\",num_1,\"is Completely divisible by\",num_2)\n",
    "else:    \n",
    "    print(\"Number\",num_1,\"is not Completely divisible by\",num_2)"
   ]
  },
  {
   "cell_type": "code",
   "execution_count": 15,
   "metadata": {},
   "outputs": [
    {
     "name": "stdout",
     "output_type": "stream",
     "text": [
      "Enter Radius of Sphere:2.4\n",
      "Volume of the Sphere with Radius 2.4 is 57.91\n"
     ]
    }
   ],
   "source": [
    "# task#05\n",
    "from math import *\n",
    "r=eval(input(\"Enter Radius of Sphere:\"))\n",
    "v=4/3*(pi*(r**3))\n",
    "print(\"Volume of the Sphere with Radius\",r,\"is\",'%.2f'%(v))"
   ]
  },
  {
   "cell_type": "code",
   "execution_count": 14,
   "metadata": {},
   "outputs": [
    {
     "name": "stdout",
     "output_type": "stream",
     "text": [
      "Enter Number:57\n",
      "57 is Odd\n"
     ]
    }
   ],
   "source": [
    "# task#06\n",
    "num_1=eval(input(\"Enter Number:\"))\n",
    "if num_1%2==0:\n",
    "    print(num_1,\"is Even\")\n",
    "else:\n",
    "    print(num_1,\"is Odd\")"
   ]
  },
  {
   "cell_type": "code",
   "execution_count": 13,
   "metadata": {},
   "outputs": [
    {
     "name": "stdout",
     "output_type": "stream",
     "text": [
      "Enter String:Hi\n",
      "How many copies of String you need:4\n",
      "4 copies of Hi are:\n",
      "Hi\n",
      "Hi\n",
      "Hi\n",
      "Hi\n"
     ]
    }
   ],
   "source": [
    "# task#07\n",
    "str_=(input(\"Enter String:\"))\n",
    "num_=eval(input(\"How many copies of String you need:\"))\n",
    "if num_>0:\n",
    "    print(num_,\"copies of\",str_,\"are:\")\n",
    "    for i in range(0,num_):\n",
    "        print(str_)\n",
    "else:\n",
    "    print(\"You entered negative integer,please enter a positive integer for copies of a string\")"
   ]
  },
  {
   "cell_type": "code",
   "execution_count": 12,
   "metadata": {},
   "outputs": [
    {
     "name": "stdout",
     "output_type": "stream",
     "text": [
      "Enter Alphabet:y\n",
      "y is consonent\n"
     ]
    }
   ],
   "source": [
    "# task#08\n",
    "str_=(input(\"Enter Alphabet:\"))\n",
    "vowel=['A','a','E','e','I','i','O','o','U','u']\n",
    "if str_ in vowel:\n",
    "    print(str_, \"is Vowel\")\n",
    "else:\n",
    "    print(str_, \"is consonent\")"
   ]
  },
  {
   "cell_type": "code",
   "execution_count": 11,
   "metadata": {},
   "outputs": [
    {
     "name": "stdout",
     "output_type": "stream",
     "text": [
      "Enter magnitude of Triangle base:22\n",
      "Enter Magnitude of Triangle Height:12\n",
      "Area of a Triangle with Height: 12 and base: 22 is 132.00\n"
     ]
    }
   ],
   "source": [
    "# task#09\n",
    "b=eval(input(\"Enter magnitude of Triangle base:\"))\n",
    "h=eval(input(\"Enter Magnitude of Triangle Height:\"))\n",
    "a=0.5*b*h\n",
    "print(\"Area of a Triangle with Height:\",h,\"and base:\",b,\"is\",\"%.2f\"% (a))"
   ]
  },
  {
   "cell_type": "code",
   "execution_count": 10,
   "metadata": {},
   "outputs": [
    {
     "name": "stdout",
     "output_type": "stream",
     "text": [
      "Please enter principal amount:1500\n",
      "Please Enter Rate of interest in %:0.5\n",
      "Enter number of years for investment:10\n",
      "After 10 years your principal amount 1500 over an interest rate of 0.5 % will be 86497.56\n"
     ]
    }
   ],
   "source": [
    "# task#10\n",
    "p_amount=eval(input(\"Please enter principal amount:\"))\n",
    "i_rate=eval(input(\"Please Enter Rate of interest in %:\"))\n",
    "num_year=eval(input(\"Enter number of years for investment:\"))\n",
    "disc_function=p_amount*((1+i_rate)**num_year)\n",
    "print(\"After\",num_year,\"years your principal amount\",p_amount,\"over an interest rate of\",i_rate,\"% will be\",\"%.2f\"%(disc_function))"
   ]
  },
  {
   "cell_type": "code",
   "execution_count": 9,
   "metadata": {},
   "outputs": [
    {
     "name": "stdout",
     "output_type": "stream",
     "text": [
      "Enter Co-ordinate for x1:2\n",
      "Enter Co-ordinate for x2:-4\n",
      "Enter Co-ordinate for y1:3\n",
      "Enter Co-ordinate for y2:3\n",
      "Distance between points ( 2 , -4 )and ( 3 , 3 ) is 6.00\n"
     ]
    }
   ],
   "source": [
    "# task#11\n",
    "from math import *\n",
    "x_1=eval(input(\"Enter Co-ordinate for x1:\"))\n",
    "x_2=eval(input(\"Enter Co-ordinate for x2:\"))\n",
    "y_1=eval(input(\"Enter Co-ordinate for y1:\"))\n",
    "y_2=eval(input(\"Enter Co-ordinate for y2:\"))\n",
    "d=sqrt(((x_2-x_1)**2)+((y_2-y_1)**2))\n",
    "print(\"Distance between points (\",x_1,',',x_2,\")and (\",y_1,',',y_2,\") is\",\"%.2f\"%(d))"
   ]
  },
  {
   "cell_type": "code",
   "execution_count": 6,
   "metadata": {},
   "outputs": [
    {
     "name": "stdout",
     "output_type": "stream",
     "text": [
      "Enter Height in Feet:6.01\n",
      "There are 183.18 in 6.01 ft\n"
     ]
    }
   ],
   "source": [
    "# task#12\n",
    "h=eval(input(\"Enter Height in Feet:\"))\n",
    "cm=h*12*2.54\n",
    "print(\"There are\",\"%.2f\"%(cm),\"in\",h,\"ft\") "
   ]
  },
  {
   "cell_type": "code",
   "execution_count": 4,
   "metadata": {},
   "outputs": [
    {
     "name": "stdout",
     "output_type": "stream",
     "text": [
      "Enter Height in Cm:185\n",
      "Enter Weight in Kg:80\n",
      "Your BMI is 23.37\n"
     ]
    }
   ],
   "source": [
    "# task#13\n",
    "h=eval(input(\"Enter Height in Cm:\"))\n",
    "h_1=h/100\n",
    "w=eval(input(\"Enter Weight in Kg:\"))\n",
    "BMI=(w/(h_1**2))      \n",
    "print(\"Your BMI is\",\"%.2f\"%(BMI))"
   ]
  },
  {
   "cell_type": "code",
   "execution_count": 3,
   "metadata": {},
   "outputs": [
    {
     "name": "stdout",
     "output_type": "stream",
     "text": [
      "Enter value of n:5\n",
      "Sum of n Positive integers till 5 is 15\n"
     ]
    }
   ],
   "source": [
    "# task#14\n",
    "num=eval(input(\"Enter value of n:\"))\n",
    "n=num\n",
    "if num>0:\n",
    "    for i in range(1,num):\n",
    "        num=num+i\n",
    "print(\"Sum of n Positive integers till\",n,\"is\",num)"
   ]
  },
  {
   "cell_type": "code",
   "execution_count": 1,
   "metadata": {},
   "outputs": [
    {
     "name": "stdout",
     "output_type": "stream",
     "text": [
      "Enter a date in (dd/mm/yy) format: 19/09/1999\n",
      "Enter a date in (dd/mm/yy) format: 28/06/2019\n",
      "There are  7222 days between  1999-09-19  and  2019-06-28\n"
     ]
    }
   ],
   "source": [
    "# task#04\n",
    "from datetime import datetime\n",
    "startDate = input(\"Enter a date in (dd/mm/yy) format: \")\n",
    "endDate = input(\"Enter a date in (dd/mm/yy) format: \")\n",
    "finalstartDate = datetime.strptime(startDate,\"%d/%m/%Y\").date()\n",
    "finalendDate = datetime.strptime(endDate,\"%d/%m/%Y\").date()\n",
    "remainingDays = finalendDate - finalstartDate\n",
    "print (\"There are \", remainingDays.days, \"days between \", finalstartDate,\" and \",finalendDate)"
   ]
  },
  {
   "cell_type": "code",
   "execution_count": 21,
   "metadata": {},
   "outputs": [
    {
     "name": "stdout",
     "output_type": "stream",
     "text": [
      "Enter a Number126\n",
      "1 + 2 + 6\n",
      "Sum Of 1 + 2 + 6 is 9\n"
     ]
    }
   ],
   "source": [
    "# task#15\n",
    "num=int(input(\"Enter a Number\"))\n",
    "sum_num=str(num)\n",
    "lst=list(sum_num)\n",
    "totalDigits=' + '.join(sum_num)\n",
    "print(totalDigits)\n",
    "total=0\n",
    "while num>0:\n",
    "    digit=num%10\n",
    "    total=total+digit\n",
    "    num=num//10\n",
    "print(\"Sum Of\",totalDigits,\"is\",total)"
   ]
  },
  {
   "cell_type": "code",
   "execution_count": 24,
   "metadata": {},
   "outputs": [
    {
     "name": "stdout",
     "output_type": "stream",
     "text": [
      "Enter a decimal number 22\n",
      "Binary Representation of  22  is  1101 "
     ]
    }
   ],
   "source": [
    "# task#16\n",
    "deci_num=int(input(\"Enter a decimal number \"))\n",
    "finalDeci_Num=deci_num\n",
    "# to store binary numbers in list\n",
    "array=[]\n",
    "while(deci_num>0):\n",
    "    digit=deci_num%2\n",
    "    array.append(digit)\n",
    "    deci_num=deci_num//2\n",
    "    # Converting integer list to string list\n",
    "    s = [str(i) for i in array]      \n",
    "    # Join list items using join() \n",
    "    res = int(\"\".join(s))     \n",
    "array.reverse()\n",
    "print(\"Binary Representation of \",finalDeci_Num,\" is \",res,end=\" \")"
   ]
  },
  {
   "cell_type": "code",
   "execution_count": 25,
   "metadata": {},
   "outputs": [
    {
     "name": "stdout",
     "output_type": "stream",
     "text": [
      "Enter a Binary number 1011\n",
      "Decimal Representation of  1011  is  11.0\n"
     ]
    }
   ],
   "source": [
    "# task#17\n",
    "binaryNumber = input(\"Enter a Binary number \")\n",
    "binaryNumberList = list(binaryNumber)\n",
    "defaultValue = 0\n",
    "actualNumber = str(binaryNumber)\n",
    "for d in range(len(binaryNumberList)):\n",
    "    numbers = binaryNumberList.pop()\n",
    "    if numbers == '1':\n",
    "        defaultValue = defaultValue + pow(2, d)\n",
    "print(\"Decimal Representation of \", actualNumber,\" is \",defaultValue)"
   ]
  },
  {
   "cell_type": "code",
   "execution_count": 29,
   "metadata": {},
   "outputs": [
    {
     "name": "stdout",
     "output_type": "stream",
     "text": [
      "Enter Text Abdul Qayyum Khan\n",
      "Vowels :  5\n",
      "Consonants :  12\n"
     ]
    }
   ],
   "source": [
    "# task#18\n",
    "userInput =input(\"Enter Text \")\n",
    "vowels = 0\n",
    "consonants = 0\n",
    "for i in userInput:\n",
    "    if(i == 'a' or i == 'e' or i == 'i' or i == 'o' or i == 'u'\n",
    "       or i == 'A' or i == 'E' or i == 'I' or i == 'O' or i == 'U'):\n",
    "        vowels = vowels + 1\n",
    "    else:\n",
    "        consonants = consonants + 1\n",
    "print(\"Vowels : \",vowels)\n",
    "print(\"Consonants : \",consonants)"
   ]
  },
  {
   "cell_type": "code",
   "execution_count": 30,
   "metadata": {},
   "outputs": [
    {
     "name": "stdout",
     "output_type": "stream",
     "text": [
      "Enter Text :sos\n",
      "Text  sos  is Palindrome\n"
     ]
    }
   ],
   "source": [
    "# task#19\n",
    "userInput = input(\"Enter Text :\")\n",
    "palindrome = userInput[::-1]\n",
    "if userInput == palindrome:\n",
    "    print(\"Text \" , userInput,\" is Palindrome\")\n",
    "else:\n",
    "    print(\"Text \" , userInput,\" is not Palindrome\")"
   ]
  },
  {
   "cell_type": "code",
   "execution_count": 31,
   "metadata": {},
   "outputs": [
    {
     "name": "stdout",
     "output_type": "stream",
     "text": [
      "Please Enter your Own String : @bdul qayyum kh@n\n",
      "\n",
      "Total Number of Alphabets in this String :   13\n",
      "Total Number of Digits in this String :   0\n",
      "Total Number of Special Characters in this String :   2\n",
      "Total Number of Spaces in this String :   2\n"
     ]
    }
   ],
   "source": [
    "# task#20\n",
    "userInput = input(\"Please Enter your Own String : \")\n",
    "alphabets = digits = special = 0\n",
    "spaces = userInput.count(' ')\n",
    "for i in range(len(userInput)):\n",
    "    if(userInput[i].isalpha()):\n",
    "        alphabets = alphabets + 1\n",
    "    elif(userInput[i].isdigit()):\n",
    "        digits = digits + 1\n",
    "    else:\n",
    "        special = special + 1\n",
    "specialCharacter = special - spaces\n",
    "print(\"\\nTotal Number of Alphabets in this String :  \", alphabets)\n",
    "print(\"Total Number of Digits in this String :  \", digits)\n",
    "print(\"Total Number of Special Characters in this String :  \", specialCharacter) \n",
    "print(\"Total Number of Spaces in this String :  \", spaces)"
   ]
  },
  {
   "cell_type": "code",
   "execution_count": 32,
   "metadata": {},
   "outputs": [
    {
     "name": "stdout",
     "output_type": "stream",
     "text": [
      "\n",
      "* \n",
      "* * \n",
      "* * * \n",
      "* * * * \n",
      "* * * * * \n",
      "* * * * \n",
      "* * * \n",
      "* * \n",
      "* \n"
     ]
    }
   ],
   "source": [
    "# task#21\n",
    "number=5;\n",
    "for i in range(number):\n",
    "    for j in range(i):\n",
    "        print ('* ', end=\"\")  \n",
    "    print('')\n",
    "for i in range(number,0,-1):\n",
    "    for j in range(i):\n",
    "        print('* ', end=\"\")\n",
    "    print('')"
   ]
  },
  {
   "cell_type": "code",
   "execution_count": 33,
   "metadata": {},
   "outputs": [
    {
     "name": "stdout",
     "output_type": "stream",
     "text": [
      "\n",
      "1\n",
      "12\n",
      "123\n",
      "1234\n",
      "12345\n",
      "1234\n",
      "123\n",
      "12\n",
      "1\n"
     ]
    }
   ],
   "source": [
    "# task#22\n",
    "number=5\n",
    "random = 1\n",
    "for i in range(number):\n",
    "    for j in range(i):\n",
    "        print (j+1, end=\"\")\n",
    "    print('')\n",
    "for i in range(5,0,-1):\n",
    "    for j in range(i):\n",
    "        print(j+1, end=\"\")\n",
    "    print('')"
   ]
  },
  {
   "cell_type": "code",
   "execution_count": 34,
   "metadata": {},
   "outputs": [
    {
     "name": "stdout",
     "output_type": "stream",
     "text": [
      "\n",
      "1\n",
      "22\n",
      "333\n",
      "4444\n",
      "55555\n",
      "666666\n",
      "7777777\n",
      "88888888\n",
      "999999999\n"
     ]
    }
   ],
   "source": [
    "# task#23\n",
    "for i in range(10):\n",
    "    print(str(i) * i)"
   ]
  },
  {
   "cell_type": "code",
   "execution_count": null,
   "metadata": {},
   "outputs": [],
   "source": []
  }
 ],
 "metadata": {
  "kernelspec": {
   "display_name": "Python 3",
   "language": "python",
   "name": "python3"
  },
  "language_info": {
   "codemirror_mode": {
    "name": "ipython",
    "version": 3
   },
   "file_extension": ".py",
   "mimetype": "text/x-python",
   "name": "python",
   "nbconvert_exporter": "python",
   "pygments_lexer": "ipython3",
   "version": "3.7.0"
  }
 },
 "nbformat": 4,
 "nbformat_minor": 2
}
